{
 "cells": [
  {
   "cell_type": "code",
   "execution_count": 3,
   "metadata": {
    "collapsed": false
   },
   "outputs": [],
   "source": [
    "import delegator"
   ]
  },
  {
   "cell_type": "code",
   "execution_count": 48,
   "metadata": {
    "collapsed": false
   },
   "outputs": [
    {
     "name": "stdout",
     "output_type": "stream",
     "text": [
      "Starting sshuttle proxy.\n",
      "firewall manager: Starting firewall with Python version 3.5.2\n",
      "firewall manager: ready method name pf.\n",
      "IPv6 enabled: False\n",
      "UDP enabled: False\n",
      "DNS enabled: False\n",
      "TCP redirector listening on ('127.0.0.1', 12298).\n",
      "Starting client with Python version 3.5.2\n",
      "c : connecting to server...\n",
      "Starting server with Python version 2.6.6\n",
      " s: latency control setting = True\n",
      " s: available routes:\n",
      " s:   2/10.1.204.0/24\n",
      " s:   2/169.254.0.0/16\n",
      "c : Connected.\n",
      "firewall manager: setting up.\n",
      ">> pfctl -f /dev/stdin\n",
      ">> pfctl -s all\n",
      ">> pfctl -a sshuttle -f /dev/stdin\n",
      ">> pfctl -E\n",
      "c : Accept TCP: 10.151.60.99:50064 -> 10.0.214.40:443.\n",
      " s: SW'unknown':Mux#1: deleting (1 remain)\n",
      " s: SW#6:10.0.214.40:443: deleting (0 remain)\n",
      " s: warning: closed channel 1 got cmd=TCP_STOP_SENDING len=0\n",
      "^C\n"
     ]
    }
   ],
   "source": [
    "!bash -c \"sshpass -f  ~/.anpass sshuttle --pidfile  ~/.pid_sshuttle_an -vr paul.nelson@fsd-jp01.an.local 10.0.212.0/24 10.0.214.0/24 10.0.209.0/24 10.0.200.0/24 199.38.140.0/24 10.0.208.0/24 10.0.203.0/24 10.0.202.0/24 10.0.209.0/24 10.1.207.0/24 199.38.140.0/24 10.1.204.12 10.0.215.0/24\"\n"
   ]
  },
  {
   "cell_type": "code",
   "execution_count": 105,
   "metadata": {
    "collapsed": false
   },
   "outputs": [],
   "source": [
    "cmditun = \"\"\"\n",
    "    bash -c \"sshpass -f  ~/.anpass sshuttle --pidfile  ~/.pid_sshuttle_an -vr paul.nelson@fsd-jp01.an.local 10.0.212.0/24 10.0.214.0/24 10.0.209.0/24 10.0.200.0/24 199.38.140.0/24 10.0.208.0/24 10.0.203.0/24 10.0.202.0/24 10.0.209.0/24 10.1.207.0/24 199.38.140.0/24 10.1.204.12 10.0.215.0/24\"\n",
    "    \"\"\"\n",
    "cmditunnopass = \"\"\"\n",
    "    bash -c \"sshuttle --pidfile  ~/.pid_sshuttle_an -vr paul.nelson@fsd-jp01.an.local 10.0.212.0/24 10.0.214.0/24 10.0.209.0/24 10.0.200.0/24 199.38.140.0/24 10.0.208.0/24 10.0.203.0/24 10.0.202.0/24 10.0.209.0/24 10.1.207.0/24 199.38.140.0/24 10.1.204.12 10.0.215.0/24\"\n",
    "    \"\"\""
   ]
  },
  {
   "cell_type": "code",
   "execution_count": 77,
   "metadata": {
    "collapsed": false
   },
   "outputs": [],
   "source": [
    "class Process(delegator.Command):\n",
    "    \n",
    "    def __init__(self, cmd):\n",
    "        super(Process, self).__init__(cmd)\n",
    "       "
   ]
  },
  {
   "cell_type": "code",
   "execution_count": 108,
   "metadata": {
    "collapsed": false
   },
   "outputs": [],
   "source": [
    "p = Process(cmditun)\n",
    "p.run(block=False)\n",
    "\n",
    "# print c.out"
   ]
  },
  {
   "cell_type": "code",
   "execution_count": 110,
   "metadata": {
    "collapsed": false
   },
   "outputs": [],
   "source": [
    "p.block()"
   ]
  },
  {
   "cell_type": "code",
   "execution_count": 111,
   "metadata": {
    "collapsed": false
   },
   "outputs": [
    {
     "name": "stdout",
     "output_type": "stream",
     "text": [
      "Starting sshuttle proxy.\n",
      "firewall manager: Starting firewall with Python version 3.5.2\n",
      "firewall manager: ready method name pf.\n",
      "IPv6 enabled: False\n",
      "UDP enabled: False\n",
      "DNS enabled: False\n",
      "TCP redirector listening on ('127.0.0.1', 12300).\n",
      "Starting client with Python version 3.5.2\n",
      "c : connecting to server...\n",
      "Starting server with Python version 2.6.6\n",
      " s: latency control setting = True\n",
      " s: available routes:\n",
      " s:   2/10.1.204.0/24\n",
      " s:   2/169.254.0.0/16\n",
      "c : Connected.\n",
      "firewall manager: setting up.\n",
      ">> pfctl -f /dev/stdin\n",
      ">> pfctl -s all\n",
      ">> pfctl -a sshuttle -f /dev/stdin\n",
      ">> pfctl -E\n",
      "c : Accept TCP: 10.151.60.117:64075 -> 10.0.214.40:443.\n",
      "c : Accept TCP: 10.151.60.117:64081 -> 10.0.214.40:443.\n",
      " s: SW'unknown':Mux#1: deleting (1 remain)\n",
      " s: SW#6:10.0.214.40:443: deleting (0 remain)\n",
      " s: warning: closed channel 1 got cmd=TCP_STOP_SENDING len=0\n",
      "c : SW'unknown':Mux#1: deleting (3 remain)\n",
      "c : SW#37:10.151.60.117:64075: deleting (2 remain)\n",
      "c : Accept TCP: 10.151.60.117:64083 -> 10.0.214.40:443.\n",
      " s: SW'unknown':Mux#2: deleting (3 remain)\n",
      " s: SW#6:10.0.214.40:443: deleting (2 remain)\n",
      " s: warning: closed channel 2 got cmd=TCP_STOP_SENDING len=0\n",
      "c : Accept TCP: 10.151.60.117:64086 -> 10.0.214.40:443.\n",
      " s: SW'unknown':Mux#3: deleting (3 remain)\n",
      " s: SW#7:10.0.214.40:443: deleting (2 remain)\n",
      " s: warning: closed channel 3 got cmd=TCP_STOP_SENDING len=0\n",
      "c : Accept TCP: 10.151.60.117:64093 -> 10.0.214.40:443.\n",
      " s: SW'unknown':Mux#4: deleting (3 remain)\n",
      " s: SW#6:10.0.214.40:443: deleting (2 remain)\n",
      " s: warning: closed channel 4 got cmd=TCP_STOP_SENDING len=0\n",
      "c : Accept TCP: 10.151.60.117:64096 -> 10.0.214.40:443.\n",
      " s: SW'unknown':Mux#5: deleting (3 remain)\n",
      " s: SW#7:10.0.214.40:443: deleting (2 remain)\n",
      " s: warning: closed channel 5 got cmd=TCP_STOP_SENDING len=0\n",
      "c : Accept TCP: 10.151.60.117:64098 -> 10.0.214.40:443.\n",
      " s: SW'unknown':Mux#6: deleting (3 remain)\n",
      " s: SW#6:10.0.214.40:443: deleting (2 remain)\n",
      "c : SW'unknown':Mux#3: deleting (11 remain)\n",
      "c : SW#37:10.151.60.117:64083: deleting (10 remain)\n",
      "c : SW'unknown':Mux#4: deleting (9 remain)\n",
      "c : SW#44:10.151.60.117:64086: deleting (8 remain)\n",
      "c : SW'unknown':Mux#5: deleting (7 remain)\n",
      "c : SW#45:10.151.60.117:64093: deleting (6 remain)\n",
      "c : SW'unknown':Mux#6: deleting (5 remain)\n",
      "c : SW#48:10.151.60.117:64096: deleting (4 remain)\n",
      " s: warning: closed channel 6 got cmd=TCP_STOP_SENDING len=0\n",
      "c : Accept TCP: 10.151.60.117:63585 -> 10.0.214.40:443.\n",
      "c : Accept TCP: 10.151.60.117:64170 -> 10.0.214.40:12900.\n",
      "c : Accept TCP: 10.151.60.117:63689 -> 10.0.214.40:443.\n",
      "c : Accept TCP: 10.151.60.117:64241 -> 10.0.212.16:3000.\n",
      "c : Accept TCP: 10.151.60.117:64246 -> 10.0.212.16:3000.\n",
      "c : Accept TCP: 10.151.60.117:64247 -> 10.0.212.16:3000.\n",
      "c : Accept TCP: 10.151.60.117:64248 -> 10.0.212.16:3000.\n",
      "c : Accept TCP: 10.151.60.117:64249 -> 10.0.212.16:3000.\n",
      "c : Accept TCP: 10.151.60.117:63706 -> 10.0.214.40:12900.\n",
      "c : SW#43:10.151.60.117:64081: deleting (21 remain)\n",
      "c : SW'unknown':Mux#2: deleting (20 remain)\n",
      " s: SW'unknown':Mux#10: deleting (19 remain)\n",
      " s: SW#9:10.0.214.40:443: deleting (18 remain)\n",
      " s: warning: closed channel 10 got cmd=TCP_STOP_SENDING len=0\n",
      "c : SW#45:10.151.60.117:63689: deleting (19 remain)\n",
      "c : SW'unknown':Mux#10: deleting (18 remain)\n",
      "c : Accept TCP: 10.151.60.117:64341 -> 10.1.204.12:22.\n",
      " s: SW'unknown':Mux#16: deleting (19 remain)\n",
      " s: SW#15:10.0.214.40:12900: deleting (18 remain)\n",
      " s: warning: closed channel 16 got cmd=TCP_STOP_SENDING len=0\n",
      " s: SW'unknown':Mux#17: deleting (17 remain)\n",
      " s: SW#9:10.1.204.12:22: deleting (16 remain)\n",
      " s: warning: closed channel 17 got cmd=TCP_STOP_SENDING len=0\n",
      "c : SW#43:10.151.60.117:64341: deleting (19 remain)\n",
      "c : SW#43:10.151.60.117:64341: error was: nowrite: [Errno 57] Socket is not connected\n",
      "c : SW'unknown':Mux#17: deleting (18 remain)\n",
      "c : SW'unknown':Mux#16: deleting (17 remain)\n",
      "c : SW#62:10.151.60.117:63706: deleting (16 remain)\n",
      "c : SW#48:10.151.60.117:64241: deleting (15 remain)\n",
      "c : SW'unknown':Mux#11: deleting (14 remain)\n",
      "c : warning: closed channel 11 got cmd=TCP_STOP_SENDING len=0\n",
      "c : warning: closed channel 15 got cmd=TCP_STOP_SENDING len=0\n",
      " s: SW'unknown':Mux#15: deleting (15 remain)\n",
      " s: SW#14:10.0.212.16:3000: deleting (14 remain)\n",
      " s: SW'unknown':Mux#13: deleting (13 remain)\n",
      " s: SW#12:10.0.212.16:3000: deleting (12 remain)\n",
      " s: SW'unknown':Mux#11: deleting (11 remain)\n",
      " s: SW#10:10.0.212.16:3000: deleting (10 remain)\n",
      "c : warning: closed channel 13 got cmd=TCP_STOP_SENDING len=0\n",
      "c : SW'unknown':Mux#13: deleting (13 remain)\n",
      "c : SW#59:10.151.60.117:64247: deleting (12 remain)\n",
      " s: SW'unknown':Mux#7: deleting (9 remain)\n",
      " s: SW#7:10.0.214.40:443: deleting (8 remain)\n",
      " s: warning: closed channel 7 got cmd=TCP_STOP_SENDING len=0\n",
      "c : warning: closed channel 12 got cmd=TCP_STOP_SENDING len=0\n",
      "c : warning: closed channel 14 got cmd=TCP_STOP_SENDING len=0\n",
      " s: SW'unknown':Mux#12: deleting (7 remain)\n",
      " s: SW#11:10.0.212.16:3000: deleting (6 remain)\n",
      " s: SW'unknown':Mux#14: deleting (5 remain)\n",
      " s: SW#13:10.0.212.16:3000: deleting (4 remain)\n",
      "c : SW'unknown':Mux#12: deleting (11 remain)\n",
      "c : SW#56:10.151.60.117:64246: deleting (10 remain)\n",
      " s: SW'unknown':Mux#9: deleting (3 remain)\n",
      " s: SW#8:10.0.214.40:12900: deleting (2 remain)\n",
      " s: warning: closed channel 9 got cmd=TCP_STOP_SENDING len=0\n",
      "packet_write_wait: Connection to 10.1.204.12 port 22: Broken pipe\r\n",
      "firewall manager: undoing changes.\n",
      ">> pfctl -a sshuttle -F all\n",
      ">> pfctl -X 11103169698453715627\n",
      "c : fatal: server died with error code 255\n",
      "c : SW'unknown':Mux#7: deleting (9 remain)\n",
      "c : SW#53:10.151.60.117:64098: deleting (8 remain)\n",
      "c : SW#37:10.151.60.117:63585: deleting (7 remain)\n",
      "c : SW'unknown':Mux#9: deleting (6 remain)\n",
      "c : SW#44:10.151.60.117:64170: deleting (5 remain)\n",
      "c : SW#44:10.151.60.117:64170: error was: nowrite: [Errno 57] Socket is not connected\n",
      "c : SW'unknown':Mux#14: deleting (4 remain)\n",
      "c : SW#60:10.151.60.117:64248: deleting (3 remain)\n",
      "c : SW'unknown':Mux#15: deleting (2 remain)\n",
      "c : SW#61:10.151.60.117:64249: deleting (1 remain)\n",
      "c : SW'unknown':Mux#8: deleting (0 remain)\n",
      "\n"
     ]
    }
   ],
   "source": [
    "print p.err"
   ]
  },
  {
   "cell_type": "code",
   "execution_count": 68,
   "metadata": {
    "collapsed": false
   },
   "outputs": [
    {
     "name": "stdout",
     "output_type": "stream",
     "text": [
      "fsdf"
     ]
    }
   ],
   "source": [
    "c.std_out.write('fsdf')"
   ]
  },
  {
   "cell_type": "code",
   "execution_count": 69,
   "metadata": {
    "collapsed": false
   },
   "outputs": [
    {
     "ename": "KeyboardInterrupt",
     "evalue": "",
     "output_type": "error",
     "traceback": [
      "\u001b[0;31m---------------------------------------------------------------------------\u001b[0m",
      "\u001b[0;31mKeyboardInterrupt\u001b[0m                         Traceback (most recent call last)",
      "\u001b[0;32m<ipython-input-69-09839a4e853f>\u001b[0m in \u001b[0;36m<module>\u001b[0;34m()\u001b[0m\n\u001b[0;32m----> 1\u001b[0;31m \u001b[0mc\u001b[0m\u001b[0;34m.\u001b[0m\u001b[0msubprocess\u001b[0m\u001b[0;34m.\u001b[0m\u001b[0mread\u001b[0m\u001b[0;34m(\u001b[0m\u001b[0;34m)\u001b[0m\u001b[0;34m\u001b[0m\u001b[0m\n\u001b[0m",
      "\u001b[0;32m/Users/panelson/anaconda/envs/py27/lib/python2.7/site-packages/pexpect/spawnbase.pyc\u001b[0m in \u001b[0;36mread\u001b[0;34m(self, size)\u001b[0m\n\u001b[1;32m    405\u001b[0m         \u001b[0momitted\u001b[0m\u001b[0;34m,\u001b[0m \u001b[0mread\u001b[0m \u001b[0mall\u001b[0m \u001b[0mdata\u001b[0m \u001b[0muntil\u001b[0m \u001b[0mEOF\u001b[0m \u001b[0;32mis\u001b[0m \u001b[0mreached\u001b[0m\u001b[0;34m.\u001b[0m \u001b[0mThe\u001b[0m \u001b[0mbytes\u001b[0m \u001b[0mare\u001b[0m \u001b[0mreturned\u001b[0m \u001b[0;32mas\u001b[0m\u001b[0;34m\u001b[0m\u001b[0m\n\u001b[1;32m    406\u001b[0m         \u001b[0ma\u001b[0m \u001b[0mstring\u001b[0m \u001b[0mobject\u001b[0m\u001b[0;34m.\u001b[0m \u001b[0mAn\u001b[0m \u001b[0mempty\u001b[0m \u001b[0mstring\u001b[0m \u001b[0;32mis\u001b[0m \u001b[0mreturned\u001b[0m \u001b[0mwhen\u001b[0m \u001b[0mEOF\u001b[0m \u001b[0;32mis\u001b[0m \u001b[0mencountered\u001b[0m\u001b[0;34m\u001b[0m\u001b[0m\n\u001b[0;32m--> 407\u001b[0;31m         immediately. '''\n\u001b[0m\u001b[1;32m    408\u001b[0m \u001b[0;34m\u001b[0m\u001b[0m\n\u001b[1;32m    409\u001b[0m         \u001b[0;32mif\u001b[0m \u001b[0msize\u001b[0m \u001b[0;34m==\u001b[0m \u001b[0;36m0\u001b[0m\u001b[0;34m:\u001b[0m\u001b[0;34m\u001b[0m\u001b[0m\n",
      "\u001b[0;32m/Users/panelson/anaconda/envs/py27/lib/python2.7/site-packages/pexpect/spawnbase.pyc\u001b[0m in \u001b[0;36mexpect\u001b[0;34m(self, pattern, timeout, searchwindowsize, async)\u001b[0m\n\u001b[1;32m    313\u001b[0m \u001b[0;34m\u001b[0m\u001b[0m\n\u001b[1;32m    314\u001b[0m         \u001b[0mWith\u001b[0m \u001b[0mthis\u001b[0m \u001b[0mnon\u001b[0m\u001b[0;34m-\u001b[0m\u001b[0mblocking\u001b[0m \u001b[0mform\u001b[0m\u001b[0;34m:\u001b[0m\u001b[0;34m:\u001b[0m\u001b[0;34m\u001b[0m\u001b[0m\n\u001b[0;32m--> 315\u001b[0;31m \u001b[0;34m\u001b[0m\u001b[0m\n\u001b[0m\u001b[1;32m    316\u001b[0m             \u001b[0mindex\u001b[0m \u001b[0;34m=\u001b[0m \u001b[0;32myield\u001b[0m \u001b[0;32mfrom\u001b[0m \u001b[0mp\u001b[0m\u001b[0;34m.\u001b[0m\u001b[0mexpect\u001b[0m\u001b[0;34m(\u001b[0m\u001b[0mpatterns\u001b[0m\u001b[0;34m,\u001b[0m \u001b[0masync\u001b[0m\u001b[0;34m=\u001b[0m\u001b[0mTrue\u001b[0m\u001b[0;34m)\u001b[0m\u001b[0;34m\u001b[0m\u001b[0m\n\u001b[1;32m    317\u001b[0m         '''\n",
      "\u001b[0;32m/Users/panelson/anaconda/envs/py27/lib/python2.7/site-packages/pexpect/spawnbase.pyc\u001b[0m in \u001b[0;36mexpect_list\u001b[0;34m(self, pattern_list, timeout, searchwindowsize, async)\u001b[0m\n\u001b[1;32m    337\u001b[0m         \u001b[0;32mif\u001b[0m \u001b[0mtimeout\u001b[0m \u001b[0;34m==\u001b[0m \u001b[0;34m-\u001b[0m\u001b[0;36m1\u001b[0m\u001b[0;34m:\u001b[0m\u001b[0;34m\u001b[0m\u001b[0m\n\u001b[1;32m    338\u001b[0m             \u001b[0mtimeout\u001b[0m \u001b[0;34m=\u001b[0m \u001b[0mself\u001b[0m\u001b[0;34m.\u001b[0m\u001b[0mtimeout\u001b[0m\u001b[0;34m\u001b[0m\u001b[0m\n\u001b[0;32m--> 339\u001b[0;31m \u001b[0;34m\u001b[0m\u001b[0m\n\u001b[0m\u001b[1;32m    340\u001b[0m         \u001b[0mexp\u001b[0m \u001b[0;34m=\u001b[0m \u001b[0mExpecter\u001b[0m\u001b[0;34m(\u001b[0m\u001b[0mself\u001b[0m\u001b[0;34m,\u001b[0m \u001b[0msearcher_re\u001b[0m\u001b[0;34m(\u001b[0m\u001b[0mpattern_list\u001b[0m\u001b[0;34m)\u001b[0m\u001b[0;34m,\u001b[0m \u001b[0msearchwindowsize\u001b[0m\u001b[0;34m)\u001b[0m\u001b[0;34m\u001b[0m\u001b[0m\n\u001b[1;32m    341\u001b[0m         \u001b[0;32mif\u001b[0m \u001b[0masync\u001b[0m\u001b[0;34m:\u001b[0m\u001b[0;34m\u001b[0m\u001b[0m\n",
      "\u001b[0;32m/Users/panelson/anaconda/envs/py27/lib/python2.7/site-packages/pexpect/expect.pyc\u001b[0m in \u001b[0;36mexpect_loop\u001b[0;34m(self, timeout)\u001b[0m\n\u001b[1;32m     96\u001b[0m                 \u001b[0;32mif\u001b[0m \u001b[0;34m(\u001b[0m\u001b[0mtimeout\u001b[0m \u001b[0;32mis\u001b[0m \u001b[0;32mnot\u001b[0m \u001b[0mNone\u001b[0m\u001b[0;34m)\u001b[0m \u001b[0;32mand\u001b[0m \u001b[0;34m(\u001b[0m\u001b[0mtimeout\u001b[0m \u001b[0;34m<\u001b[0m \u001b[0;36m0\u001b[0m\u001b[0;34m)\u001b[0m\u001b[0;34m:\u001b[0m\u001b[0;34m\u001b[0m\u001b[0m\n\u001b[1;32m     97\u001b[0m                     \u001b[0;32mreturn\u001b[0m \u001b[0mself\u001b[0m\u001b[0;34m.\u001b[0m\u001b[0mtimeout\u001b[0m\u001b[0;34m(\u001b[0m\u001b[0;34m)\u001b[0m\u001b[0;34m\u001b[0m\u001b[0m\n\u001b[0;32m---> 98\u001b[0;31m                 \u001b[0;31m# Still have time left, so read more data\u001b[0m\u001b[0;34m\u001b[0m\u001b[0;34m\u001b[0m\u001b[0m\n\u001b[0m\u001b[1;32m     99\u001b[0m                 \u001b[0mincoming\u001b[0m \u001b[0;34m=\u001b[0m \u001b[0mspawn\u001b[0m\u001b[0;34m.\u001b[0m\u001b[0mread_nonblocking\u001b[0m\u001b[0;34m(\u001b[0m\u001b[0mspawn\u001b[0m\u001b[0;34m.\u001b[0m\u001b[0mmaxread\u001b[0m\u001b[0;34m,\u001b[0m \u001b[0mtimeout\u001b[0m\u001b[0;34m)\u001b[0m\u001b[0;34m\u001b[0m\u001b[0m\n\u001b[1;32m    100\u001b[0m                 \u001b[0;32mif\u001b[0m \u001b[0mself\u001b[0m\u001b[0;34m.\u001b[0m\u001b[0mspawn\u001b[0m\u001b[0;34m.\u001b[0m\u001b[0mdelayafterread\u001b[0m \u001b[0;32mis\u001b[0m \u001b[0;32mnot\u001b[0m \u001b[0mNone\u001b[0m\u001b[0;34m:\u001b[0m\u001b[0;34m\u001b[0m\u001b[0m\n",
      "\u001b[0;31mKeyboardInterrupt\u001b[0m: "
     ]
    }
   ],
   "source": [
    "c.subprocess.read()"
   ]
  },
  {
   "cell_type": "code",
   "execution_count": 3,
   "metadata": {
    "collapsed": false
   },
   "outputs": [
    {
     "ename": "NameError",
     "evalue": "name 'ruleset' is not defined",
     "output_type": "error",
     "traceback": [
      "\u001b[0;31m---------------------------------------------------------------------------\u001b[0m",
      "\u001b[0;31mNameError\u001b[0m                                 Traceback (most recent call last)",
      "\u001b[0;32m<ipython-input-3-9509fe224c67>\u001b[0m in \u001b[0;36m<module>\u001b[0;34m()\u001b[0m\n\u001b[0;32m----> 1\u001b[0;31m \u001b[0;32mfrom\u001b[0m \u001b[0mdurable\u001b[0m\u001b[0;34m.\u001b[0m\u001b[0mlang\u001b[0m \u001b[0;32mimport\u001b[0m \u001b[0;34m*\u001b[0m\u001b[0;34m\u001b[0m\u001b[0m\n\u001b[0m",
      "\u001b[0;32m/Users/panelson/anaconda/envs/py27/lib/python2.7/site-packages/durable/lang.py\u001b[0m in \u001b[0;36m<module>\u001b[0;34m()\u001b[0m\n\u001b[0;32m----> 1\u001b[0;31m \u001b[0;32mfrom\u001b[0m \u001b[0;34m.\u001b[0m \u001b[0;32mimport\u001b[0m \u001b[0mengine\u001b[0m\u001b[0;34m\u001b[0m\u001b[0m\n\u001b[0m\u001b[1;32m      2\u001b[0m \u001b[0;32mfrom\u001b[0m \u001b[0;34m.\u001b[0m \u001b[0;32mimport\u001b[0m \u001b[0minterface\u001b[0m\u001b[0;34m\u001b[0m\u001b[0m\n\u001b[1;32m      3\u001b[0m \u001b[0;34m\u001b[0m\u001b[0m\n\u001b[1;32m      4\u001b[0m \u001b[0;32mclass\u001b[0m \u001b[0mavalue\u001b[0m\u001b[0;34m(\u001b[0m\u001b[0mobject\u001b[0m\u001b[0;34m)\u001b[0m\u001b[0;34m:\u001b[0m\u001b[0;34m\u001b[0m\u001b[0m\n\u001b[1;32m      5\u001b[0m \u001b[0;34m\u001b[0m\u001b[0m\n",
      "\u001b[0;32m/Users/panelson/anaconda/envs/py27/lib/python2.7/site-packages/durable/engine.py\u001b[0m in \u001b[0;36m<module>\u001b[0;34m()\u001b[0m\n\u001b[1;32m      1\u001b[0m \u001b[0;32mimport\u001b[0m \u001b[0mjson\u001b[0m\u001b[0;34m\u001b[0m\u001b[0m\n\u001b[1;32m      2\u001b[0m \u001b[0;32mimport\u001b[0m \u001b[0mcopy\u001b[0m\u001b[0;34m\u001b[0m\u001b[0m\n\u001b[0;32m----> 3\u001b[0;31m \u001b[0;32mimport\u001b[0m \u001b[0mrules\u001b[0m\u001b[0;34m\u001b[0m\u001b[0m\n\u001b[0m\u001b[1;32m      4\u001b[0m \u001b[0;32mimport\u001b[0m \u001b[0mthreading\u001b[0m\u001b[0;34m\u001b[0m\u001b[0m\n\u001b[1;32m      5\u001b[0m \u001b[0;32mimport\u001b[0m \u001b[0minspect\u001b[0m\u001b[0;34m\u001b[0m\u001b[0m\n",
      "\u001b[0;32m/Users/panelson/workspace/process/rules.py\u001b[0m in \u001b[0;36m<module>\u001b[0;34m()\u001b[0m\n\u001b[1;32m      1\u001b[0m \u001b[0;32mfrom\u001b[0m \u001b[0mdurable\u001b[0m\u001b[0;34m.\u001b[0m\u001b[0mlang\u001b[0m \u001b[0;32mimport\u001b[0m \u001b[0;34m*\u001b[0m\u001b[0;34m\u001b[0m\u001b[0m\n\u001b[1;32m      2\u001b[0m \u001b[0;34m\u001b[0m\u001b[0m\n\u001b[0;32m----> 3\u001b[0;31m \u001b[0;32mwith\u001b[0m \u001b[0mruleset\u001b[0m\u001b[0;34m(\u001b[0m\u001b[0;34m'test'\u001b[0m\u001b[0;34m)\u001b[0m\u001b[0;34m:\u001b[0m\u001b[0;34m\u001b[0m\u001b[0m\n\u001b[0m\u001b[1;32m      4\u001b[0m     \u001b[0;31m# antecedent\u001b[0m\u001b[0;34m\u001b[0m\u001b[0;34m\u001b[0m\u001b[0m\n\u001b[1;32m      5\u001b[0m     \u001b[0;34m@\u001b[0m\u001b[0mwhen_all\u001b[0m\u001b[0;34m(\u001b[0m\u001b[0mm\u001b[0m\u001b[0;34m.\u001b[0m\u001b[0msubject\u001b[0m \u001b[0;34m==\u001b[0m \u001b[0;34m'World'\u001b[0m\u001b[0;34m)\u001b[0m\u001b[0;34m\u001b[0m\u001b[0m\n",
      "\u001b[0;31mNameError\u001b[0m: name 'ruleset' is not defined"
     ]
    }
   ],
   "source": [
    "from durable.lang import *"
   ]
  },
  {
   "cell_type": "code",
   "execution_count": 140,
   "metadata": {
    "collapsed": false
   },
   "outputs": [],
   "source": [
    "from durable.lang import *\n",
    "    \n",
    "with ruleset('test'):\n",
    "    # antecedent\n",
    "    @when_all(m.subject == 'World')\n",
    "    def say_hello(c):\n",
    "        # consequent\n",
    "        print ('Hello {0}'.format(c.m.subject))\n",
    "\n",
    "run_all()"
   ]
  },
  {
   "cell_type": "code",
   "execution_count": 1,
   "metadata": {
    "collapsed": false
   },
   "outputs": [
    {
     "ename": "NameError",
     "evalue": "name 'run_all' is not defined",
     "output_type": "error",
     "traceback": [
      "\u001b[0;31m---------------------------------------------------------------------------\u001b[0m",
      "\u001b[0;31mNameError\u001b[0m                                 Traceback (most recent call last)",
      "\u001b[0;32m<ipython-input-1-a5db3ff65058>\u001b[0m in \u001b[0;36m<module>\u001b[0;34m()\u001b[0m\n\u001b[0;32m----> 1\u001b[0;31m \u001b[0mrun_all\u001b[0m\u001b[0;34m(\u001b[0m\u001b[0;34m)\u001b[0m\u001b[0;34m\u001b[0m\u001b[0m\n\u001b[0m",
      "\u001b[0;31mNameError\u001b[0m: name 'run_all' is not defined"
     ]
    }
   ],
   "source": [
    "run_all()"
   ]
  },
  {
   "cell_type": "code",
   "execution_count": 143,
   "metadata": {
    "collapsed": true
   },
   "outputs": [],
   "source": [
    "%qtconsole"
   ]
  },
  {
   "cell_type": "code",
   "execution_count": null,
   "metadata": {
    "collapsed": true
   },
   "outputs": [],
   "source": []
  }
 ],
 "metadata": {
  "kernelspec": {
   "display_name": "Python 2",
   "language": "python",
   "name": "python2"
  },
  "language_info": {
   "codemirror_mode": {
    "name": "ipython",
    "version": 2
   },
   "file_extension": ".py",
   "mimetype": "text/x-python",
   "name": "python",
   "nbconvert_exporter": "python",
   "pygments_lexer": "ipython2",
   "version": "2.7.11"
  }
 },
 "nbformat": 4,
 "nbformat_minor": 0
}
